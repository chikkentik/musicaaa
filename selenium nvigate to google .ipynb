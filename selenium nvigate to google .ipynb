{
 "cells": [
  {
   "cell_type": "code",
   "execution_count": 1,
   "metadata": {},
   "outputs": [],
   "source": [
    "#google and enter \n",
    "\n",
    "from selenium import webdriver\n",
    "from selenium.webdriver.common.keys import Keys\n",
    "driver = webdriver.Chrome(executable_path= 'C:/Users/tika/Downloads/chromedriver.exe')\n",
    "driver.get('https://www.google.ca/')\n",
    "driver.find_element_by_name(\"q\").send_keys(\"hi\" , Keys.ENTER)"
   ]
  },
  {
   "cell_type": "code",
   "execution_count": 19,
   "metadata": {},
   "outputs": [],
   "source": [
    "\n",
    "# google, new tab and goes duckgogo\n",
    "driver = webdriver.Chrome(executable_path= 'C:/Users/tika/Downloads/chromedriver.exe')\n",
    "driver.get(\"https://www.google.com\")\n",
    "driver.execute_script(\"window.open('');\")\n",
    "driver.switch_to.window(driver.window_handles[1])\n",
    "driver.get(\"https://www.duckduckgo.com\")\n"
   ]
  },
  {
   "cell_type": "code",
   "execution_count": 30,
   "metadata": {},
   "outputs": [],
   "source": [
    "#google click button \n",
    "import time\n",
    "from selenium import webdriver\n",
    "from selenium.webdriver.common.keys import Keys\n",
    "driver = webdriver.Chrome(executable_path= 'C:/Users/tika/Downloads/chromedriver.exe')\n",
    "driver.get(\"https://www.google.com\")\n",
    "driver.find_element_by_name(\"q\").send_keys(\"hi\")\n",
    "time.sleep(2)\n",
    "driver.find_element_by_class_name(\"gNO89b\").click()\n",
    "\n"
   ]
  },
  {
   "cell_type": "code",
   "execution_count": null,
   "metadata": {},
   "outputs": [],
   "source": []
  }
 ],
 "metadata": {
  "kernelspec": {
   "display_name": "Python 3",
   "language": "python",
   "name": "python3"
  },
  "language_info": {
   "codemirror_mode": {
    "name": "ipython",
    "version": 3
   },
   "file_extension": ".py",
   "mimetype": "text/x-python",
   "name": "python",
   "nbconvert_exporter": "python",
   "pygments_lexer": "ipython3",
   "version": "3.7.3"
  }
 },
 "nbformat": 4,
 "nbformat_minor": 2
}
