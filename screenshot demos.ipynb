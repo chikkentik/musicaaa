{
 "cells": [
  {
   "cell_type": "code",
   "execution_count": 1,
   "metadata": {},
   "outputs": [],
   "source": [
    "import pyautogui\n",
    "myScreenshot = pyautogui.screenshot()\n",
    "myScreenshot.save(r'C:\\Users\\tika\\Pictures\\python\\image1.png')"
   ]
  },
  {
   "cell_type": "code",
   "execution_count": 3,
   "metadata": {},
   "outputs": [],
   "source": [
    "#consequential screenshots \n",
    "import pyautogui\n",
    "import time \n",
    "\n",
    "x=1\n",
    "while x<4:\n",
    "    myScreenshot = pyautogui.screenshot()\n",
    "    myScreenshot.save(\"C:/Users/tika/Pictures/python/image\"+str(x)+\".png\")\n",
    "    x+=1\n",
    "    time.sleep(3)"
   ]
  },
  {
   "cell_type": "code",
   "execution_count": 5,
   "metadata": {},
   "outputs": [],
   "source": [
    "#consequential screenshots of browser using selenium \n",
    "\n",
    "import time\n",
    "from selenium import webdriver\n",
    "from selenium.webdriver.common.keys import Keys\n",
    "driver = webdriver.Chrome(executable_path= 'C:/Users/tika/Downloads/chromedriver.exe')\n",
    "driver.get('https://www.youtube.com/watch?v=xOfBezEDZ24')\n",
    "driver.maximize_window()\n",
    "driver.find_element_by_class_name(\"style-scope ytd-watch-flexy\").click()\n",
    "\n",
    "x=1\n",
    "while x<4:\n",
    "    driver.save_screenshot(\"C:/Users/tika/Pictures/python/screenshot\"+str(x)+\".png\")\n",
    "    x+=1\n",
    "    time.sleep(3)\n"
   ]
  },
  {
   "cell_type": "code",
   "execution_count": null,
   "metadata": {},
   "outputs": [],
   "source": [
    "import time\n",
    "from selenium import webdriver\n",
    "from selenium.webdriver.common.keys import Keys\n",
    "driver = webdriver.Chrome(executable_path= 'C:/Users/tika/Downloads/chromedriver.exe')\n",
    "driver.get('https://www.youtube.com/watch_popup?v=xOfBezEDZ24')\n",
    "#<iframe width=\"1752\" height=\"1440\" src=\"https://www.youtube.com/embed/Qg1odw_nUwo\" frameborder=\"0\" allow=\"accelerometer; autoplay; encrypted-media; gyroscope; picture-in-picture\" allowfullscreen></iframe>\n",
    "driver.maximize_window()\n",
    "driver.find_element_by_class_name(\"style-scope ytd-watch-flexy\").click()\n",
    "#driver.find_element_by_class_name(\"style-scope ytd-watch-flexy\").send_keys(\"f\")\n",
    "#send_keys(\"f\")\n",
    "x=1\n",
    "while x<4:\n",
    "    driver.save_screenshot(\"C:/Users/tika/Pictures/python/screenshot\"+str(x)+\".png\")\n",
    "    x+=1\n",
    "    time.sleep(3)\n",
    "    #how to open new tab with adblocker?\n",
    "#driver.maximize_window()\n",
    "#driver.find_element_by_class_name(\"style-scope ytd-watch-flexy\").click()\n",
    "#driver.send_keys(\"f\")\n",
    "\n",
    "#time.sleep(3)\n",
    "\n",
    "#driver.save_screenshot(r\"C:\\Users\\tika\\Pictures\\python\\screenshot1.png\")"
   ]
  }
 ],
 "metadata": {
  "kernelspec": {
   "display_name": "Python 3",
   "language": "python",
   "name": "python3"
  },
  "language_info": {
   "codemirror_mode": {
    "name": "ipython",
    "version": 3
   },
   "file_extension": ".py",
   "mimetype": "text/x-python",
   "name": "python",
   "nbconvert_exporter": "python",
   "pygments_lexer": "ipython3",
   "version": "3.7.3"
  }
 },
 "nbformat": 4,
 "nbformat_minor": 2
}
